{
 "cells": [
  {
   "cell_type": "code",
   "execution_count": 1,
   "metadata": {
    "collapsed": false
   },
   "outputs": [
    {
     "name": "stdout",
     "output_type": "stream",
     "text": [
      "PL9A701D54E8896D0E\n",
      "PLF83B8D8C87426E44\n",
      "PLEA18FAF1AD9047B0\n",
      "PL8D95DEA9B7DFE825\n",
      "PL6A08EB4EEFF3E91F\n",
      "PL44ABC9278E2EE706\n",
      "PLEDC55106E0BA18FC\n",
      "PL8FB14A2200B87185\n",
      "PLD10630DEA5E7466A\n",
      "PLUl4u3cNGP63B2lDhyKOsImI7FjCf6eDW\n",
      "PLUl4u3cNGP61kfOW3zAIfpNhf0piao8oo\n",
      "PL2SOU6wwxB0v3c46v2ptuDKIHmXHRAmeU\n",
      "PLA89DCFA6ADACE599\n",
      "PL-XXv-cvA_iDTKE56ZRv92RJNnLmy2aZh\n",
      "PLUl4u3cNGP62K2DjQLRxDNRi0z2IRWnNh\n",
      "PLUl4u3cNGP61Oq3tWYp6V_F-5jb5L2iHb\n",
      "PLF8A834F810575A94\n",
      "PLUl4u3cNGP63gFHB6xb-kVBiQHYe_4hSi\n",
      "PL2SOU6wwxB0uVbmox-s0PCssse5VKGkWh\n",
      "PLD00D35CBC75941BD\n",
      "PLh9mgdi4rNewA25FVJ-lawQ-yr-alF58z\n",
      "PLE33BCD966FF96F23\n",
      "PLh9mgdi4rNezhx8YiGIV8I22ICSuzslja\n",
      "PLEC88901EBADDD980\n",
      "PL4C4C8A7D06566F38\n",
      "PLB24BC7956EE040CD\n",
      "PLUl4u3cNGP61kdPAOC7CzFjJZ8f1eMUxs\n",
      "PL6EF60E1027E1A10B\n",
      "PLE7DDD91010BC51F8\n",
      "PL2SOU6wwxB0uwwH80KTQ6ht66KWxbzTIo\n",
      "PLD2D34BCA5468DD9A\n",
      "PL3F629F73640F831D\n",
      "PLD07B2225BB40E582\n",
      "PLFE3074A4CB751B2B\n",
      "PL84C10A9CB1D13841\n",
      "PL6C8BDEEBA6BDC78D\n",
      "PL189C0DCE90CB6D81\n",
      "PLUl4u3cNGP60gl3fdUTKRrt5t_GPx2sRg\n",
      "PLUl4u3cNGP61-9PEhRognw5vryrSEVLPr\n",
      "PLA27CEA1B8B27EB67\n",
      "PL77A337915A76F660\n",
      "PL40E11D5C66CAC48C\n",
      "PLBCB3059E45654BCE\n",
      "PL3A8E6CE294860A24\n",
      "DONE!\n"
     ]
    }
   ],
   "source": [
    "import urllib2, pprint, json\n",
    "from apiclient.discovery import build\n",
    "from apiclient.errors import HttpError\n",
    "\n",
    "playlists = json.load(open(\"classes.json\"))\n",
    "\n",
    "#REQUIRES WEB_API KEY IN DEV_KEY.TXT!\n",
    "DEVELOPER_KEY = open(\"DEV_KEY.txt\", 'r').read()\n",
    "YOUTUBE_API_SERVICE_NAME = \"youtube\"\n",
    "YOUTUBE_API_VERSION = \"v3\"\n",
    "\n",
    "'''Generates youtube object, used to gather information. Requires Wep API key, \n",
    "which can be gotten from https://console.developers.google.com after creating a project'''\n",
    "youtube = build(YOUTUBE_API_SERVICE_NAME, YOUTUBE_API_VERSION,\n",
    "    developerKey=DEVELOPER_KEY)\n",
    "\n",
    "plsAr = []\n",
    "'''iterate over class file'''\n",
    "for topic in playlists.keys():\n",
    "    for pl in playlists[topic]:\n",
    "        print pl\n",
    "        plsInfo = youtube.playlists().list(\n",
    "          id = pl,\n",
    "          part = \"contentDetails,snippet\").execute()\n",
    "\n",
    "        vidId = youtube.playlistItems().list(\n",
    "          playlistId = pl,\n",
    "          maxResults = 50,\n",
    "          part = \"contentDetails\").execute()\n",
    "\n",
    "        '''general playlist attributes'''\n",
    "        plTitle = plsInfo[\"items\"][0][\"snippet\"][\"title\"]\n",
    "        plAuthor = plsInfo[\"items\"][0][\"snippet\"][\"channelTitle\"]\n",
    "        description = plsInfo[\"items\"][0][\"snippet\"][\"description\"]\n",
    "        thumbURL = plsInfo[\"items\"][0][\"snippet\"][\"thumbnails\"][\"default\"][\"url\"]\n",
    "\n",
    "        '''specific video attributes'''\n",
    "        vidsObj = []\n",
    "        counter = 0\n",
    "        for item in [i[\"contentDetails\"][\"videoId\"] for i in vidId[\"items\"]]:\n",
    "            videoInfo = youtube.videos().list(\n",
    "              id = item,\n",
    "              part = \"snippet,statistics\").execute();\n",
    "            if videoInfo[\"items\"] == []: #private video!\n",
    "                break\n",
    "            vidsObj.append({\"videoId\": item,\n",
    "                              \"viewCount\": videoInfo[\"items\"][0][\"statistics\"][\"viewCount\"],\n",
    "                              \"title\": videoInfo[\"items\"][0][\"snippet\"][\"title\"]})\n",
    "            counter += 1\n",
    "        plsAr.append({\"topic\": topic,\n",
    "                       \"plId\": pl,\n",
    "                       \"plTitle\": plTitle,\n",
    "                       \"plAuthor\": plAuthor,\n",
    "                       \"description\": description,\n",
    "                       \"thumbURL\": thumbURL,\n",
    "                        \"videos\": vidsObj});\n",
    "print \"DONE!\""
   ]
  },
  {
   "cell_type": "code",
   "execution_count": 2,
   "metadata": {
    "collapsed": false
   },
   "outputs": [],
   "source": [
    "json.dump(plsAr, open(\"classData.json\", 'w'))\n",
    "#pretty printing for manual check\n",
    "#json.dump(topicObj, open(\"freshdata2.json\", 'w'), indent=4, separators=(',', ': '))"
   ]
  },
  {
   "cell_type": "code",
   "execution_count": null,
   "metadata": {
    "collapsed": true
   },
   "outputs": [],
   "source": []
  }
 ],
 "metadata": {
  "kernelspec": {
   "display_name": "Python 2",
   "language": "python",
   "name": "python2"
  },
  "language_info": {
   "codemirror_mode": {
    "name": "ipython",
    "version": 2
   },
   "file_extension": ".py",
   "mimetype": "text/x-python",
   "name": "python",
   "nbconvert_exporter": "python",
   "pygments_lexer": "ipython2",
   "version": "2.7.6"
  }
 },
 "nbformat": 4,
 "nbformat_minor": 0
}
