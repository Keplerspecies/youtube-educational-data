{
 "cells": [
  {
   "cell_type": "code",
   "execution_count": 15,
   "metadata": {
    "collapsed": false
   },
   "outputs": [
    {
     "name": "stdout",
     "output_type": "stream",
     "text": [
      "Biology\n",
      "PL9A701D54E8896D0E\n",
      "PLF83B8D8C87426E44\n"
     ]
    },
    {
     "ename": "KeyboardInterrupt",
     "evalue": "",
     "output_type": "error",
     "traceback": [
      "\u001b[1;31m---------------------------------------------------------------------------\u001b[0m",
      "\u001b[1;31mKeyboardInterrupt\u001b[0m                         Traceback (most recent call last)",
      "\u001b[1;32m<ipython-input-15-e4f2c9a87d52>\u001b[0m in \u001b[0;36m<module>\u001b[1;34m()\u001b[0m\n\u001b[0;32m     39\u001b[0m             videoInfo = youtube.videos().list(\n\u001b[0;32m     40\u001b[0m               \u001b[0mid\u001b[0m \u001b[1;33m=\u001b[0m \u001b[0mitem\u001b[0m\u001b[1;33m,\u001b[0m\u001b[1;33m\u001b[0m\u001b[0m\n\u001b[1;32m---> 41\u001b[1;33m               part = \"snippet,statistics\").execute();\n\u001b[0m\u001b[0;32m     42\u001b[0m             \u001b[1;32mif\u001b[0m \u001b[0mvideoInfo\u001b[0m\u001b[1;33m[\u001b[0m\u001b[1;34m\"items\"\u001b[0m\u001b[1;33m]\u001b[0m \u001b[1;33m==\u001b[0m \u001b[1;33m[\u001b[0m\u001b[1;33m]\u001b[0m\u001b[1;33m:\u001b[0m \u001b[1;31m#private video!\u001b[0m\u001b[1;33m\u001b[0m\u001b[0m\n\u001b[0;32m     43\u001b[0m                 \u001b[1;32mbreak\u001b[0m\u001b[1;33m\u001b[0m\u001b[0m\n",
      "\u001b[1;32m/usr/local/lib/python2.7/dist-packages/oauth2client/util.pyc\u001b[0m in \u001b[0;36mpositional_wrapper\u001b[1;34m(*args, **kwargs)\u001b[0m\n\u001b[0;32m    140\u001b[0m                 \u001b[1;32melse\u001b[0m\u001b[1;33m:\u001b[0m  \u001b[1;31m# IGNORE\u001b[0m\u001b[1;33m\u001b[0m\u001b[0m\n\u001b[0;32m    141\u001b[0m                     \u001b[1;32mpass\u001b[0m\u001b[1;33m\u001b[0m\u001b[0m\n\u001b[1;32m--> 142\u001b[1;33m             \u001b[1;32mreturn\u001b[0m \u001b[0mwrapped\u001b[0m\u001b[1;33m(\u001b[0m\u001b[1;33m*\u001b[0m\u001b[0margs\u001b[0m\u001b[1;33m,\u001b[0m \u001b[1;33m**\u001b[0m\u001b[0mkwargs\u001b[0m\u001b[1;33m)\u001b[0m\u001b[1;33m\u001b[0m\u001b[0m\n\u001b[0m\u001b[0;32m    143\u001b[0m         \u001b[1;32mreturn\u001b[0m \u001b[0mpositional_wrapper\u001b[0m\u001b[1;33m\u001b[0m\u001b[0m\n\u001b[0;32m    144\u001b[0m \u001b[1;33m\u001b[0m\u001b[0m\n",
      "\u001b[1;32m/usr/local/lib/python2.7/dist-packages/googleapiclient/http.pyc\u001b[0m in \u001b[0;36mexecute\u001b[1;34m(self, http, num_retries)\u001b[0m\n\u001b[0;32m    720\u001b[0m \u001b[1;33m\u001b[0m\u001b[0m\n\u001b[0;32m    721\u001b[0m       resp, content = http.request(str(self.uri), method=str(self.method),\n\u001b[1;32m--> 722\u001b[1;33m                                    body=self.body, headers=self.headers)\n\u001b[0m\u001b[0;32m    723\u001b[0m       \u001b[1;32mif\u001b[0m \u001b[0mresp\u001b[0m\u001b[1;33m.\u001b[0m\u001b[0mstatus\u001b[0m \u001b[1;33m<\u001b[0m \u001b[1;36m500\u001b[0m\u001b[1;33m:\u001b[0m\u001b[1;33m\u001b[0m\u001b[0m\n\u001b[0;32m    724\u001b[0m         \u001b[1;32mbreak\u001b[0m\u001b[1;33m\u001b[0m\u001b[0m\n",
      "\u001b[1;32m/usr/local/lib/python2.7/dist-packages/httplib2/__init__.pyc\u001b[0m in \u001b[0;36mrequest\u001b[1;34m(self, uri, method, body, headers, redirections, connection_type)\u001b[0m\n\u001b[0;32m   1461\u001b[0m                 \u001b[0mauthority\u001b[0m \u001b[1;33m=\u001b[0m \u001b[0mdomain_port\u001b[0m\u001b[1;33m[\u001b[0m\u001b[1;36m0\u001b[0m\u001b[1;33m]\u001b[0m\u001b[1;33m\u001b[0m\u001b[0m\n\u001b[0;32m   1462\u001b[0m \u001b[1;33m\u001b[0m\u001b[0m\n\u001b[1;32m-> 1463\u001b[1;33m             \u001b[0mproxy_info\u001b[0m \u001b[1;33m=\u001b[0m \u001b[0mself\u001b[0m\u001b[1;33m.\u001b[0m\u001b[0m_get_proxy_info\u001b[0m\u001b[1;33m(\u001b[0m\u001b[0mscheme\u001b[0m\u001b[1;33m,\u001b[0m \u001b[0mauthority\u001b[0m\u001b[1;33m)\u001b[0m\u001b[1;33m\u001b[0m\u001b[0m\n\u001b[0m\u001b[0;32m   1464\u001b[0m \u001b[1;33m\u001b[0m\u001b[0m\n\u001b[0;32m   1465\u001b[0m             \u001b[0mconn_key\u001b[0m \u001b[1;33m=\u001b[0m \u001b[0mscheme\u001b[0m\u001b[1;33m+\u001b[0m\u001b[1;34m\":\"\u001b[0m\u001b[1;33m+\u001b[0m\u001b[0mauthority\u001b[0m\u001b[1;33m\u001b[0m\u001b[0m\n",
      "\u001b[1;32m/usr/local/lib/python2.7/dist-packages/httplib2/__init__.pyc\u001b[0m in \u001b[0;36m_get_proxy_info\u001b[1;34m(self, scheme, authority)\u001b[0m\n\u001b[0;32m   1641\u001b[0m         \u001b[1;32mand\u001b[0m \u001b[0mauthority\u001b[0m\u001b[1;33m.\u001b[0m\u001b[1;33m\u001b[0m\u001b[0m\n\u001b[0;32m   1642\u001b[0m         \"\"\"\n\u001b[1;32m-> 1643\u001b[1;33m         \u001b[0mhostname\u001b[0m\u001b[1;33m,\u001b[0m \u001b[0mport\u001b[0m \u001b[1;33m=\u001b[0m \u001b[0murllib\u001b[0m\u001b[1;33m.\u001b[0m\u001b[0msplitport\u001b[0m\u001b[1;33m(\u001b[0m\u001b[0mauthority\u001b[0m\u001b[1;33m)\u001b[0m\u001b[1;33m\u001b[0m\u001b[0m\n\u001b[0m\u001b[0;32m   1644\u001b[0m         \u001b[0mproxy_info\u001b[0m \u001b[1;33m=\u001b[0m \u001b[0mself\u001b[0m\u001b[1;33m.\u001b[0m\u001b[0mproxy_info\u001b[0m\u001b[1;33m\u001b[0m\u001b[0m\n\u001b[0;32m   1645\u001b[0m         \u001b[1;32mif\u001b[0m \u001b[0mcallable\u001b[0m\u001b[1;33m(\u001b[0m\u001b[0mproxy_info\u001b[0m\u001b[1;33m)\u001b[0m\u001b[1;33m:\u001b[0m\u001b[1;33m\u001b[0m\u001b[0m\n",
      "\u001b[1;32m/usr/lib/python2.7/urllib.pyc\u001b[0m in \u001b[0;36msplitport\u001b[1;34m(host)\u001b[0m\n\u001b[0;32m   1128\u001b[0m         \u001b[0m_portprog\u001b[0m \u001b[1;33m=\u001b[0m \u001b[0mre\u001b[0m\u001b[1;33m.\u001b[0m\u001b[0mcompile\u001b[0m\u001b[1;33m(\u001b[0m\u001b[1;34m'^(.*):([0-9]*)$'\u001b[0m\u001b[1;33m)\u001b[0m\u001b[1;33m\u001b[0m\u001b[0m\n\u001b[0;32m   1129\u001b[0m \u001b[1;33m\u001b[0m\u001b[0m\n\u001b[1;32m-> 1130\u001b[1;33m     \u001b[0mmatch\u001b[0m \u001b[1;33m=\u001b[0m \u001b[0m_portprog\u001b[0m\u001b[1;33m.\u001b[0m\u001b[0mmatch\u001b[0m\u001b[1;33m(\u001b[0m\u001b[0mhost\u001b[0m\u001b[1;33m)\u001b[0m\u001b[1;33m\u001b[0m\u001b[0m\n\u001b[0m\u001b[0;32m   1131\u001b[0m     \u001b[1;32mif\u001b[0m \u001b[0mmatch\u001b[0m\u001b[1;33m:\u001b[0m\u001b[1;33m\u001b[0m\u001b[0m\n\u001b[0;32m   1132\u001b[0m         \u001b[0mhost\u001b[0m\u001b[1;33m,\u001b[0m \u001b[0mport\u001b[0m \u001b[1;33m=\u001b[0m \u001b[0mmatch\u001b[0m\u001b[1;33m.\u001b[0m\u001b[0mgroups\u001b[0m\u001b[1;33m(\u001b[0m\u001b[1;33m)\u001b[0m\u001b[1;33m\u001b[0m\u001b[0m\n",
      "\u001b[1;31mKeyboardInterrupt\u001b[0m: "
     ]
    }
   ],
   "source": [
    "import urllib2, pprint, json\n",
    "from apiclient.discovery import build\n",
    "from apiclient.errors import HttpError\n",
    "\n",
    "playlists = json.load(open(\"classes.json\"))\n",
    "\n",
    "#REQUIRES WEB_API KEY IN DEV_KEY.TXT!\n",
    "DEVELOPER_KEY = open(\"DEV_KEY.txt\", 'r').read()\n",
    "YOUTUBE_API_SERVICE_NAME = \"youtube\"\n",
    "YOUTUBE_API_VERSION = \"v3\"\n",
    "\n",
    "'''Generates youtube object, used to gather information. Requires Wep API key, \n",
    "which can be gotten from https://console.developers.google.com after creating a project'''\n",
    "youtube = build(YOUTUBE_API_SERVICE_NAME, YOUTUBE_API_VERSION,\n",
    "    developerKey=DEVELOPER_KEY)\n",
    "\n",
    "plsObj = {}\n",
    "topicObj = {}\n",
    "\n",
    "\n",
    "'''iterate over class file'''\n",
    "for topic in playlists.keys():\n",
    "    print topic\n",
    "    for pl in playlists[topic]:\n",
    "        print pl\n",
    "        plsInfo = youtube.playlists().list(\n",
    "          id = pl,\n",
    "          part = \"contentDetails,snippet\").execute()\n",
    "\n",
    "        vidId = youtube.playlistItems().list(\n",
    "          playlistId = pl,\n",
    "          maxResults = 50,\n",
    "          part = \"contentDetails\").execute()\n",
    "\n",
    "        '''general playlist attributes'''\n",
    "        plTitle = plsInfo[\"items\"][0][\"snippet\"][\"title\"]\n",
    "        plAuthor = plsInfo[\"items\"][0][\"snippet\"][\"channelTitle\"]\n",
    "        description = plsInfo[\"items\"][0][\"snippet\"][\"description\"]\n",
    "        thumbURL = plsInfo[\"items\"][0][\"snippet\"][\"thumbnails\"][\"default\"][\"url\"]\n",
    "\n",
    "        '''specific video attributes'''\n",
    "        vidsObj = []\n",
    "        counter = 0\n",
    "        for item in [i[\"contentDetails\"][\"videoId\"] for i in vidId[\"items\"]]:\n",
    "            videoInfo = youtube.videos().list(\n",
    "              id = item,\n",
    "              part = \"snippet,statistics\").execute();\n",
    "            if videoInfo[\"items\"] == []: #private video!\n",
    "                break\n",
    "            vidsObj.append({\"videoId\": item,\n",
    "                              \"viewCount\": videoInfo[\"items\"][0][\"statistics\"][\"viewCount\"],\n",
    "                              \"title\": videoInfo[\"items\"][0][\"snippet\"][\"title\"]})\n",
    "            counter += 1\n",
    "        plsObj[pl] = {\"plTitle\": plTitle,\n",
    "                       \"plAuthor\": plAuthor,\n",
    "                       \"description\": description,\n",
    "                       \"thumbURL\": thumbURL,\n",
    "                        \"videos\": vidsObj}\n",
    "    topicObj[topic] = plsObj\n",
    "print \"DONE!\""
   ]
  },
  {
   "cell_type": "code",
   "execution_count": 14,
   "metadata": {
    "collapsed": false
   },
   "outputs": [],
   "source": [
    "json.dump(topicObj, open(\"classData.json\", 'w'))\n",
    "#pretty printing for manual check\n",
    "#json.dump(topicObj, open(\"freshdata2.json\", 'w'), indent=4, separators=(',', ': '))"
   ]
  },
  {
   "cell_type": "code",
   "execution_count": 143,
   "metadata": {
    "collapsed": false
   },
   "outputs": [
    {
     "name": "stdout",
     "output_type": "stream",
     "text": [
      "{u'contentDetails': {u'videoId': u'p2J7wSuFRl8'},\n",
      " u'etag': u'\"fpJ9onbY0Rl_LqYLG6rOCJ9h9N8/dERgVdkPWpcavGvKebWk1S1qgLg\"',\n",
      " u'id': u'PL6Qm4wfZS3kqGPS60mKb8-SSUpy6YZAbq',\n",
      " u'kind': u'youtube#playlistItem',\n",
      " u'snippet': {u'channelId': u'UC4EY_qnSeAP1xGsh61eOoJA',\n",
      "              u'channelTitle': u'YaleCourses',\n",
      "              u'description': u'Death (PHIL 176)\\n\\nProfessor Kagan introduces the course and the material that will be covered during the semester. He aims to clarify what the class will focus on in particular and which subjects it will steer away from. The emphasis will be placed on philosophical questions that arise when one contemplates the nature of death. The first half of the course will address metaphysical questions while the second half will focus on value theory.\\n\\n00:00 - Chapter 1. What This Class Is NOT, and What This Class Is\\n06:38 - Chapter 2. Common Views on Death Are Wrong: How This Class Is Taught\\n14:20 - Chapter 3. Course Requirements, Materials, and Format\\n21:03 - Chapter 4. On Grading Thoughts on Death\\n38:50 - Chapter 5. Student Evaluations and Invitation \\n\\nComplete course materials are available at the Yale Online website: online.yale.edu\\n\\nThis course was recorded in Spring 2007.',\n",
      "              u'playlistId': u'PLEA18FAF1AD9047B0',\n",
      "              u'position': 0,\n",
      "              u'publishedAt': u'2008-10-01T14:10:05.000Z',\n",
      "              u'resourceId': {u'kind': u'youtube#video',\n",
      "                              u'videoId': u'p2J7wSuFRl8'},\n",
      "              u'thumbnails': {u'default': {u'height': 90,\n",
      "                                           u'url': u'https://i.ytimg.com/vi/p2J7wSuFRl8/default.jpg',\n",
      "                                           u'width': 120},\n",
      "                              u'high': {u'height': 360,\n",
      "                                        u'url': u'https://i.ytimg.com/vi/p2J7wSuFRl8/hqdefault.jpg',\n",
      "                                        u'width': 480},\n",
      "                              u'medium': {u'height': 180,\n",
      "                                          u'url': u'https://i.ytimg.com/vi/p2J7wSuFRl8/mqdefault.jpg',\n",
      "                                          u'width': 320}},\n",
      "              u'title': u'1. Course introduction'}}\n"
     ]
    }
   ],
   "source": [
    "pprint.pprint(videoIds[2][\"items\"][0])"
   ]
  },
  {
   "cell_type": "code",
   "execution_count": 86,
   "metadata": {
    "collapsed": false
   },
   "outputs": [
    {
     "name": "stdout",
     "output_type": "stream",
     "text": [
      "{u'items': [{u'snippet': {u'thumbnails': {u'default': {u'url': u'https://i.ytimg.com/vi/h4SM1Yp8yVU/default.jpg', u'width': 120, u'height': 90}, u'high': {u'url': u'https://i.ytimg.com/vi/h4SM1Yp8yVU/hqdefault.jpg', u'width': 480, u'height': 360}, u'medium': {u'url': u'https://i.ytimg.com/vi/h4SM1Yp8yVU/mqdefault.jpg', u'width': 320, u'height': 180}}, u'title': u'CS50 2009', u'channelId': u'UCLv7Gzc3VTO6ggFlXY0sOyw', u'publishedAt': u'2011-08-03T16:36:55.000Z', u'channelTitle': u'Harvard University', u'localized': {u'description': u'Instructor David Malan\\r\\n\\r\\nIntroduction to the intellectual enterprises of computer science and the art of programming. This course teaches students how to think algorithmically and solve problems efficiently. Topics include abstraction, algorithms, encapsulation, data structures, databases, memory management, security, software development, virtualization, and websites. Languages include C, PHP, and JavaScript plus SQL, CSS, and HTML. Problem sets inspired by real-world domains of biology, cryptography, finance, forensics, and gaming. Designed for concentrators and non-concentrators alike, with or without prior programming experience.', u'title': u'CS50 2009'}, u'description': u'Instructor David Malan\\r\\n\\r\\nIntroduction to the intellectual enterprises of computer science and the art of programming. This course teaches students how to think algorithmically and solve problems efficiently. Topics include abstraction, algorithms, encapsulation, data structures, databases, memory management, security, software development, virtualization, and websites. Languages include C, PHP, and JavaScript plus SQL, CSS, and HTML. Problem sets inspired by real-world domains of biology, cryptography, finance, forensics, and gaming. Designed for concentrators and non-concentrators alike, with or without prior programming experience.'}, u'contentDetails': {u'itemCount': 21}, u'kind': u'youtube#playlist', u'etag': u'\"fpJ9onbY0Rl_LqYLG6rOCJ9h9N8/prap928oMBjPRF4BGL1dZoBotAM\"', u'id': u'PLF8A834F810575A94'}], u'kind': u'youtube#playlistListResponse', u'etag': u'\"fpJ9onbY0Rl_LqYLG6rOCJ9h9N8/l9ZUyknhVW_M-GKjLuUUbc7xjhA\"', u'pageInfo': {u'resultsPerPage': 5, u'totalResults': 1}}\n"
     ]
    }
   ],
   "source": [
    "print response1"
   ]
  },
  {
   "cell_type": "code",
   "execution_count": null,
   "metadata": {
    "collapsed": true
   },
   "outputs": [],
   "source": []
  }
 ],
 "metadata": {
  "kernelspec": {
   "display_name": "Python 2",
   "language": "python",
   "name": "python2"
  },
  "language_info": {
   "codemirror_mode": {
    "name": "ipython",
    "version": 2
   },
   "file_extension": ".py",
   "mimetype": "text/x-python",
   "name": "python",
   "nbconvert_exporter": "python",
   "pygments_lexer": "ipython2",
   "version": "2.7.6"
  }
 },
 "nbformat": 4,
 "nbformat_minor": 0
}
